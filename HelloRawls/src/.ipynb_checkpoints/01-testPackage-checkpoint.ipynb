{
 "cells": [
  {
   "cell_type": "code",
   "execution_count": 1,
   "metadata": {},
   "outputs": [],
   "source": [
    "import Agents"
   ]
  },
  {
   "cell_type": "code",
   "execution_count": 2,
   "metadata": {},
   "outputs": [
    {
     "data": {
      "text/plain": [
       "Agents"
      ]
     },
     "execution_count": 2,
     "metadata": {},
     "output_type": "execute_result"
    }
   ],
   "source": [
    "const Abm = Agents"
   ]
  },
  {
   "cell_type": "code",
   "execution_count": 3,
   "metadata": {},
   "outputs": [
    {
     "data": {
      "text/plain": [
       "SchellingModel"
      ]
     },
     "execution_count": 3,
     "metadata": {},
     "output_type": "execute_result"
    }
   ],
   "source": [
    "\"\"\"\n",
    "AbstractModel type for the Schelling Model\n",
    "\n",
    "Object should always be a subtype of AbstractModel.\n",
    "\"\"\"\n",
    "mutable struct SchellingModel{T<:Integer, Y<:AbstractArray,\n",
    "                              Z<:Abm.AbstractSpace} <: Abm.AbstractModel \n",
    "\n",
    "  \"A field of the model for a space object, always a subtype of AbstractSpace.\"\n",
    "  space::Z\n",
    "    \n",
    "  \"A list of agents.\"\n",
    "  agents::Y\n",
    "    \n",
    "  \"A field for the scheduler function.\"\n",
    "  scheduler::Function\n",
    "    \n",
    "  \"The minimum number of neighbors for agent to be happy.\"\n",
    "  min_to_be_happy::T\n",
    "    \n",
    "end\n"
   ]
  },
  {
   "cell_type": "code",
   "execution_count": 4,
   "metadata": {},
   "outputs": [
    {
     "data": {
      "text/latex": [
       "An abstract space type. Your grid type should have the following fields: \\texttt{dimensions} (Tuple\\{Integer, Integer, Integer\\}), agent\\_positions (Array\\{Array\\{Integer\\}\\}), and \\texttt{grid}.\n",
       "\n",
       "\\texttt{agent\\_positions} should always be a list of lists that accept \\texttt{Integers}, i.e. agent ids.\n",
       "\n"
      ],
      "text/markdown": [
       "An abstract space type. Your grid type should have the following fields: `dimensions` (Tuple{Integer, Integer, Integer}), agent_positions (Array{Array{Integer}}), and `grid`.\n",
       "\n",
       "`agent_positions` should always be a list of lists that accept `Integers`, i.e. agent ids.\n"
      ],
      "text/plain": [
       "  An abstract space type. Your grid type should have the following fields:\n",
       "  \u001b[36mdimensions\u001b[39m (Tuple{Integer, Integer, Integer}), agent_positions\n",
       "  (Array{Array{Integer}}), and \u001b[36mgrid\u001b[39m.\n",
       "\n",
       "  \u001b[36magent_positions\u001b[39m should always be a list of lists that accept \u001b[36mIntegers\u001b[39m, i.e.\n",
       "  agent ids."
      ]
     },
     "execution_count": 4,
     "metadata": {},
     "output_type": "execute_result"
    }
   ],
   "source": [
    "@doc Abm.AbstractSpace"
   ]
  },
  {
   "cell_type": "code",
   "execution_count": 5,
   "metadata": {},
   "outputs": [
    {
     "data": {
      "text/latex": [
       "Define your model to be a subtype of \\texttt{AbstractModel}. Your model has to have the following fields, but can also have other fields of your choice.\n",
       "\n",
       "e.g.\n",
       "\n",
       "\\begin{verbatim}\n",
       "mutable struct MyModel <: AbstractModel\n",
       "  scheduler::Function\n",
       "  space\n",
       "  agents::Array{Integer}  # a list of agents ids\n",
       "end\n",
       "\\end{verbatim}\n",
       "\\texttt{scheduler} can be one of the default functions (\\texttt{random\\_activation}), or your own function.\n",
       "\n"
      ],
      "text/markdown": [
       "Define your model to be a subtype of `AbstractModel`. Your model has to have the following fields, but can also have other fields of your choice.\n",
       "\n",
       "e.g.\n",
       "\n",
       "```\n",
       "mutable struct MyModel <: AbstractModel\n",
       "  scheduler::Function\n",
       "  space\n",
       "  agents::Array{Integer}  # a list of agents ids\n",
       "end\n",
       "```\n",
       "\n",
       "`scheduler` can be one of the default functions (`random_activation`), or your own function.\n"
      ],
      "text/plain": [
       "  Define your model to be a subtype of \u001b[36mAbstractModel\u001b[39m. Your model has to have\n",
       "  the following fields, but can also have other fields of your choice.\n",
       "\n",
       "  e.g.\n",
       "\n",
       "\u001b[36m  mutable struct MyModel <: AbstractModel\u001b[39m\n",
       "\u001b[36m    scheduler::Function\u001b[39m\n",
       "\u001b[36m    space\u001b[39m\n",
       "\u001b[36m    agents::Array{Integer}  # a list of agents ids\u001b[39m\n",
       "\u001b[36m  end\u001b[39m\n",
       "\n",
       "  \u001b[36mscheduler\u001b[39m can be one of the default functions (\u001b[36mrandom_activation\u001b[39m), or your\n",
       "  own function."
      ]
     },
     "execution_count": 5,
     "metadata": {},
     "output_type": "execute_result"
    }
   ],
   "source": [
    "@doc Abm.AbstractModel "
   ]
  },
  {
   "cell_type": "code",
   "execution_count": 6,
   "metadata": {},
   "outputs": [
    {
     "data": {
      "text/plain": [
       "SchellingAgent"
      ]
     },
     "execution_count": 6,
     "metadata": {},
     "output_type": "execute_result"
    }
   ],
   "source": [
    "\"\"\"\n",
    "AbstractAgent type for the Schelling Agent\n",
    "\n",
    "Object should always be a subtype of AbstractAgent.\n",
    "\"\"\"\n",
    "mutable struct SchellingAgent{T<:Integer} <: Abm.AbstractAgent\n",
    "  \"The identifier number of the agent.\"\n",
    "  id::T\n",
    "  \"The x, y location of the agent.\"\n",
    "  pos::Tuple{T, T}\n",
    "  \"\"\"\n",
    "  Whether or not the agent is happy with cell.\n",
    "\n",
    "  Where true is \"happy\" and false is \"unhappy\"\n",
    "\n",
    "  \"\"\"\n",
    "  mood::Bool\n",
    "  \"The group of the agent, determines mood as it interacts with neighbors.\"\n",
    "  group::T\n",
    "end"
   ]
  },
  {
   "cell_type": "code",
   "execution_count": 7,
   "metadata": {},
   "outputs": [
    {
     "data": {
      "text/plain": [
       "MyGrid"
      ]
     },
     "execution_count": 7,
     "metadata": {},
     "output_type": "execute_result"
    }
   ],
   "source": [
    "\"The space of the experiment.\"\n",
    "mutable struct MyGrid{T<:Integer, Y<:AbstractArray} <: Abm.AbstractSpace\n",
    "  \"Dimensions of the grid.\"\n",
    "  dimensions::Tuple{T, T}\n",
    "  \"The space type.\"\n",
    "  space::Abm.SimpleGraph\n",
    "  \"An array of arrays for each grid node.\"\n",
    "  agent_positions::Y  \n",
    "end"
   ]
  },
  {
   "cell_type": "markdown",
   "metadata": {},
   "source": [
    "Functions from the package used in the next function:\n",
    "\n",
    "- gridsize;\n",
    "- grid;\n",
    "- random_activation;\n",
    "- add_agent_single!"
   ]
  },
  {
   "cell_type": "code",
   "execution_count": 8,
   "metadata": {},
   "outputs": [
    {
     "data": {
      "text/latex": [
       "\\begin{verbatim}\n",
       "grid(x::Integer, y::Integer, z::Integer, periodic=false, Moore=false)\n",
       "\\end{verbatim}\n",
       "Return a grid based on its dimensions. \\texttt{x}, \\texttt{y}, and \\texttt{z} are the dimensions of the grid. If all dimensions are 1, it will return a 0D space, where all agents are in the same position. If \\texttt{x} is more than 1, but \\texttt{y} and \\texttt{z} are 1, it will return a 1D grid. If \\texttt{x} and \\texttt{y} are more than 1, and \\texttt{z=1}, it will return a 2D regular grid.\n",
       "\n",
       "\\begin{itemize}\n",
       "\\item \\texttt{periodic=true} will create toroidal grids.\n",
       "\n",
       "\n",
       "\\item \\texttt{Moore=true} will return a regular grid in which each node is connected to its diagonal neighbors. If \\texttt{false}, each node will only connect to its orthogonal neighbors.\n",
       "\n",
       "\\end{itemize}\n",
       "\\begin{verbatim}\n",
       "grid(dims::Tuple{Integer, Integer, Integer}, periodic=false, Moore=false)\n",
       "\\end{verbatim}\n",
       "Return a grid based on its dimensions. \\texttt{x}, \\texttt{y}, and \\texttt{z} are the dimensions of the grid. If all dimensions are 1, it will return a 0D space, where all agents are in the same position. If \\texttt{x} is more than 1, but \\texttt{y} and \\texttt{z} are 1, it will return a 1D grid. If \\texttt{x} and \\texttt{y} are more than 1, and \\texttt{z=1}, it will return a 2D regular grid.\n",
       "\n",
       "\\begin{itemize}\n",
       "\\item \\texttt{periodic=true} will create toroidal grids.\n",
       "\n",
       "\n",
       "\\item \\texttt{Moore=true} will return a regular grid in which each node is connected to its diagonal neighbors. If \\texttt{false}, each node will only connect to its orthogonal neighbors.\n",
       "\n",
       "\\end{itemize}\n",
       "\\begin{verbatim}\n",
       "grid(dims::Tuple{Integer, Integer}, periodic=false, Moore=false)\n",
       "\\end{verbatim}\n",
       "Return a grid based on its dimensions. \\texttt{x}, \\texttt{y} are the dimensions of the grid. If all dimensions are 1, it will return a 0D space, where all agents are in the same position. If \\texttt{x} is more than 1, but \\texttt{y} is 1, it will return a 1D grid.\n",
       "\n",
       "\\begin{itemize}\n",
       "\\item \\texttt{periodic=true} will create toroidal grids.\n",
       "\n",
       "\n",
       "\\item \\texttt{Moore=true} will return a regular grid in which each node is connected to its diagonal neighbors. If \\texttt{false}, each node will only connect to its orthogonal neighbors.\n",
       "\n",
       "\\end{itemize}\n"
      ],
      "text/markdown": [
       "```\n",
       "grid(x::Integer, y::Integer, z::Integer, periodic=false, Moore=false)\n",
       "```\n",
       "\n",
       "Return a grid based on its dimensions. `x`, `y`, and `z` are the dimensions of the grid. If all dimensions are 1, it will return a 0D space, where all agents are in the same position. If `x` is more than 1, but `y` and `z` are 1, it will return a 1D grid. If `x` and `y` are more than 1, and `z=1`, it will return a 2D regular grid.\n",
       "\n",
       "  * `periodic=true` will create toroidal grids.\n",
       "  * `Moore=true` will return a regular grid in which each node is connected to its diagonal neighbors. If `false`, each node will only connect to its orthogonal neighbors.\n",
       "\n",
       "```\n",
       "grid(dims::Tuple{Integer, Integer, Integer}, periodic=false, Moore=false)\n",
       "```\n",
       "\n",
       "Return a grid based on its dimensions. `x`, `y`, and `z` are the dimensions of the grid. If all dimensions are 1, it will return a 0D space, where all agents are in the same position. If `x` is more than 1, but `y` and `z` are 1, it will return a 1D grid. If `x` and `y` are more than 1, and `z=1`, it will return a 2D regular grid.\n",
       "\n",
       "  * `periodic=true` will create toroidal grids.\n",
       "  * `Moore=true` will return a regular grid in which each node is connected to its diagonal neighbors. If `false`, each node will only connect to its orthogonal neighbors.\n",
       "\n",
       "```\n",
       "grid(dims::Tuple{Integer, Integer}, periodic=false, Moore=false)\n",
       "```\n",
       "\n",
       "Return a grid based on its dimensions. `x`, `y` are the dimensions of the grid. If all dimensions are 1, it will return a 0D space, where all agents are in the same position. If `x` is more than 1, but `y` is 1, it will return a 1D grid.\n",
       "\n",
       "  * `periodic=true` will create toroidal grids.\n",
       "  * `Moore=true` will return a regular grid in which each node is connected to its diagonal neighbors. If `false`, each node will only connect to its orthogonal neighbors.\n"
      ],
      "text/plain": [
       "\u001b[36m  grid(x::Integer, y::Integer, z::Integer, periodic=false, Moore=false)\u001b[39m\n",
       "\n",
       "  Return a grid based on its dimensions. \u001b[36mx\u001b[39m, \u001b[36my\u001b[39m, and \u001b[36mz\u001b[39m are the dimensions of the\n",
       "  grid. If all dimensions are 1, it will return a 0D space, where all agents\n",
       "  are in the same position. If \u001b[36mx\u001b[39m is more than 1, but \u001b[36my\u001b[39m and \u001b[36mz\u001b[39m are 1, it will\n",
       "  return a 1D grid. If \u001b[36mx\u001b[39m and \u001b[36my\u001b[39m are more than 1, and \u001b[36mz=1\u001b[39m, it will return a 2D\n",
       "  regular grid.\n",
       "\n",
       "    •    \u001b[36mperiodic=true\u001b[39m will create toroidal grids.\n",
       "\n",
       "    •    \u001b[36mMoore=true\u001b[39m will return a regular grid in which each node is\n",
       "        connected to its diagonal neighbors. If \u001b[36mfalse\u001b[39m, each node will only\n",
       "        connect to its orthogonal neighbors.\n",
       "\n",
       "\u001b[36m  grid(dims::Tuple{Integer, Integer, Integer}, periodic=false, Moore=false)\u001b[39m\n",
       "\n",
       "  Return a grid based on its dimensions. \u001b[36mx\u001b[39m, \u001b[36my\u001b[39m, and \u001b[36mz\u001b[39m are the dimensions of the\n",
       "  grid. If all dimensions are 1, it will return a 0D space, where all agents\n",
       "  are in the same position. If \u001b[36mx\u001b[39m is more than 1, but \u001b[36my\u001b[39m and \u001b[36mz\u001b[39m are 1, it will\n",
       "  return a 1D grid. If \u001b[36mx\u001b[39m and \u001b[36my\u001b[39m are more than 1, and \u001b[36mz=1\u001b[39m, it will return a 2D\n",
       "  regular grid.\n",
       "\n",
       "    •    \u001b[36mperiodic=true\u001b[39m will create toroidal grids.\n",
       "\n",
       "    •    \u001b[36mMoore=true\u001b[39m will return a regular grid in which each node is\n",
       "        connected to its diagonal neighbors. If \u001b[36mfalse\u001b[39m, each node will only\n",
       "        connect to its orthogonal neighbors.\n",
       "\n",
       "\u001b[36m  grid(dims::Tuple{Integer, Integer}, periodic=false, Moore=false)\u001b[39m\n",
       "\n",
       "  Return a grid based on its dimensions. \u001b[36mx\u001b[39m, \u001b[36my\u001b[39m are the dimensions of the grid.\n",
       "  If all dimensions are 1, it will return a 0D space, where all agents are in\n",
       "  the same position. If \u001b[36mx\u001b[39m is more than 1, but \u001b[36my\u001b[39m is 1, it will return a 1D\n",
       "  grid.\n",
       "\n",
       "    •    \u001b[36mperiodic=true\u001b[39m will create toroidal grids.\n",
       "\n",
       "    •    \u001b[36mMoore=true\u001b[39m will return a regular grid in which each node is\n",
       "        connected to its diagonal neighbors. If \u001b[36mfalse\u001b[39m, each node will only\n",
       "        connect to its orthogonal neighbors."
      ]
     },
     "execution_count": 8,
     "metadata": {},
     "output_type": "execute_result"
    }
   ],
   "source": [
    "@doc Abm.grid"
   ]
  },
  {
   "cell_type": "code",
   "execution_count": 9,
   "metadata": {
    "scrolled": true
   },
   "outputs": [
    {
     "data": {
      "text/latex": [
       "\\begin{verbatim}\n",
       "gridsize(dims::Tuple{Integer, Integer, Integer})\n",
       "\\end{verbatim}\n",
       "Returns the size of a grid with dimenstions \\texttt{dims}.\n",
       "\n",
       "\\begin{verbatim}\n",
       "gridsize(dims::Tuple{Integer, Integer})\n",
       "\\end{verbatim}\n",
       "Returns the size of a grid with dimenstions \\texttt{dims}.\n",
       "\n",
       "\\begin{verbatim}\n",
       "gridsize(model::AbstractModel)\n",
       "\\end{verbatim}\n",
       "Returns the size of the grid in the model\n",
       "\n"
      ],
      "text/markdown": [
       "```\n",
       "gridsize(dims::Tuple{Integer, Integer, Integer})\n",
       "```\n",
       "\n",
       "Returns the size of a grid with dimenstions `dims`.\n",
       "\n",
       "```\n",
       "gridsize(dims::Tuple{Integer, Integer})\n",
       "```\n",
       "\n",
       "Returns the size of a grid with dimenstions `dims`.\n",
       "\n",
       "```\n",
       "gridsize(model::AbstractModel)\n",
       "```\n",
       "\n",
       "Returns the size of the grid in the model\n"
      ],
      "text/plain": [
       "\u001b[36m  gridsize(dims::Tuple{Integer, Integer, Integer})\u001b[39m\n",
       "\n",
       "  Returns the size of a grid with dimenstions \u001b[36mdims\u001b[39m.\n",
       "\n",
       "\u001b[36m  gridsize(dims::Tuple{Integer, Integer})\u001b[39m\n",
       "\n",
       "  Returns the size of a grid with dimenstions \u001b[36mdims\u001b[39m.\n",
       "\n",
       "\u001b[36m  gridsize(model::AbstractModel)\u001b[39m\n",
       "\n",
       "  Returns the size of the grid in the model"
      ]
     },
     "execution_count": 9,
     "metadata": {},
     "output_type": "execute_result"
    }
   ],
   "source": [
    "@doc Abm.gridsize"
   ]
  },
  {
   "cell_type": "code",
   "execution_count": 10,
   "metadata": {},
   "outputs": [
    {
     "data": {
      "text/latex": [
       "\\begin{verbatim}\n",
       "random_activation(model::AbstractModel)\n",
       "\\end{verbatim}\n",
       "Activates agents once per step in a random order.\n",
       "\n"
      ],
      "text/markdown": [
       "```\n",
       "random_activation(model::AbstractModel)\n",
       "```\n",
       "\n",
       "Activates agents once per step in a random order.\n"
      ],
      "text/plain": [
       "\u001b[36m  random_activation(model::AbstractModel)\u001b[39m\n",
       "\n",
       "  Activates agents once per step in a random order."
      ]
     },
     "execution_count": 10,
     "metadata": {},
     "output_type": "execute_result"
    }
   ],
   "source": [
    "@doc Abm.random_activation"
   ]
  },
  {
   "cell_type": "code",
   "execution_count": 11,
   "metadata": {},
   "outputs": [
    {
     "data": {
      "text/latex": [
       "\\begin{verbatim}\n",
       "add_agent_single!(agent::AbstractAgent, model::AbstractModel)\n",
       "\\end{verbatim}\n",
       "Adds agent to a random node in the space while respecting a maximum one agent per node. It does not do anything if there are no empty nodes.\n",
       "\n",
       "Returns the agent's new position.\n",
       "\n"
      ],
      "text/markdown": [
       "```\n",
       "add_agent_single!(agent::AbstractAgent, model::AbstractModel)\n",
       "```\n",
       "\n",
       "Adds agent to a random node in the space while respecting a maximum one agent per node. It does not do anything if there are no empty nodes.\n",
       "\n",
       "Returns the agent's new position.\n"
      ],
      "text/plain": [
       "\u001b[36m  add_agent_single!(agent::AbstractAgent, model::AbstractModel)\u001b[39m\n",
       "\n",
       "  Adds agent to a random node in the space while respecting a maximum one\n",
       "  agent per node. It does not do anything if there are no empty nodes.\n",
       "\n",
       "  Returns the agent's new position."
      ]
     },
     "execution_count": 11,
     "metadata": {},
     "output_type": "execute_result"
    }
   ],
   "source": [
    "@doc Abm.add_agent_single!"
   ]
  },
  {
   "cell_type": "code",
   "execution_count": 12,
   "metadata": {},
   "outputs": [
    {
     "data": {
      "text/plain": [
       "instantiate_model"
      ]
     },
     "execution_count": 12,
     "metadata": {},
     "output_type": "execute_result"
    }
   ],
   "source": [
    "\"Function to instantiate the model.\"\n",
    "function instantiate_model(;numagents=320, griddims=(20, 20), min_to_be_happy=3)\n",
    "\n",
    "  # 1) Creates an array of empty arrays as many as there are agents.\n",
    "  agent_positions = [Int64[] for i in 1:Abm.gridsize(griddims)]\n",
    "\n",
    "  # 2) Use MyGrid to create a grid from griddims and agent_positions using the\n",
    "  #    grid function.\n",
    "  mygrid = MyGrid(griddims, Abm.grid(griddims, false, true), agent_positions)\n",
    "\n",
    "  # 3) Instantiate the model using mygrid, the SchellingAgent type, the\n",
    "  #    random_activation function from Agents.jl and the\n",
    "  #    argument min_to_be_happy.\n",
    "  model = SchellingModel(mygrid, SchellingAgent[], Abm.random_activation,\n",
    "                         min_to_be_happy) \n",
    "\n",
    "  # 4) Create a 1-dimension list of agents, balanced evenly between group 0\n",
    "  #    and group 1.\n",
    "  agents = vcat(\n",
    "    [SchellingAgent(Int(i), (1,1), false, 0) for i in 1:(numagents/2)],\n",
    "    [SchellingAgent(Int(i), (1,1), false, 1) for i in (numagents/2)+1:numagents]\n",
    "  )\n",
    "\n",
    "  # 5) Add the agents to the model.\n",
    "  for agent in agents\n",
    "    # Use add_agent_single (from Agents.jl) to add the agents to the grid at\n",
    "    # random locations.\n",
    "    Abm.add_agent_single!(agent, model)\n",
    "  end\n",
    "  return model\n",
    "end"
   ]
  },
  {
   "cell_type": "markdown",
   "metadata": {},
   "source": [
    "An **agent step function** is always required. Such an agent step function defines what happens to an agent when it activates. Sometimes we will need also need a function that changes all agents at once, or changes a model property. In such cases, we can also provide a **model step function**."
   ]
  },
  {
   "cell_type": "markdown",
   "metadata": {},
   "source": [
    "Fns from `Agents` used in the next function:\n",
    "\n",
    "- node_neighbors\n",
    "- get_node_contents\n",
    "- move_agent_single!"
   ]
  },
  {
   "cell_type": "code",
   "execution_count": 13,
   "metadata": {},
   "outputs": [
    {
     "data": {
      "text/latex": [
       "\\begin{verbatim}\n",
       "node_neighbors(agent::AbstractAgent, model::AbstractModel)\n",
       "\\end{verbatim}\n",
       "Returns neighboring node coords/numbers of the node on which the agent resides. If agent \\texttt{pos} is recorded an integer, the function will return node numbers of the neighbors. If the agent \\texttt{pos} is a tuple, the function will return the coordinates of neighbors on a grid.\n",
       "\n",
       "\\begin{verbatim}\n",
       "node_neighbors(node_number::Integer, model::AbstractModel)\n",
       "\\end{verbatim}\n",
       "Returns neighboring node IDs of the node with \\texttt{node\\_number}.\n",
       "\n",
       "\\begin{verbatim}\n",
       "node_neighbors(node_coord::Tuple, model::AbstractModel)\n",
       "\\end{verbatim}\n",
       "Returns neighboring node coords of the node with \\texttt{node\\_coord}.\n",
       "\n",
       "\\begin{verbatim}\n",
       "node_neighbors(node_number::Integer, model::AbstractModel, radius::Integer)\n",
       "\\end{verbatim}\n",
       "Returns a list of neighboring cells to the node \\texttt{node\\_number} within the \\texttt{radius}.\n",
       "\n"
      ],
      "text/markdown": [
       "```\n",
       "node_neighbors(agent::AbstractAgent, model::AbstractModel)\n",
       "```\n",
       "\n",
       "Returns neighboring node coords/numbers of the node on which the agent resides. If agent `pos` is recorded an integer, the function will return node numbers of the neighbors. If the agent `pos` is a tuple, the function will return the coordinates of neighbors on a grid.\n",
       "\n",
       "```\n",
       "node_neighbors(node_number::Integer, model::AbstractModel)\n",
       "```\n",
       "\n",
       "Returns neighboring node IDs of the node with `node_number`.\n",
       "\n",
       "```\n",
       "node_neighbors(node_coord::Tuple, model::AbstractModel)\n",
       "```\n",
       "\n",
       "Returns neighboring node coords of the node with `node_coord`.\n",
       "\n",
       "```\n",
       "node_neighbors(node_number::Integer, model::AbstractModel, radius::Integer)\n",
       "```\n",
       "\n",
       "Returns a list of neighboring cells to the node `node_number` within the `radius`.\n"
      ],
      "text/plain": [
       "\u001b[36m  node_neighbors(agent::AbstractAgent, model::AbstractModel)\u001b[39m\n",
       "\n",
       "  Returns neighboring node coords/numbers of the node on which the agent\n",
       "  resides. If agent \u001b[36mpos\u001b[39m is recorded an integer, the function will return node\n",
       "  numbers of the neighbors. If the agent \u001b[36mpos\u001b[39m is a tuple, the function will\n",
       "  return the coordinates of neighbors on a grid.\n",
       "\n",
       "\u001b[36m  node_neighbors(node_number::Integer, model::AbstractModel)\u001b[39m\n",
       "\n",
       "  Returns neighboring node IDs of the node with \u001b[36mnode_number\u001b[39m.\n",
       "\n",
       "\u001b[36m  node_neighbors(node_coord::Tuple, model::AbstractModel)\u001b[39m\n",
       "\n",
       "  Returns neighboring node coords of the node with \u001b[36mnode_coord\u001b[39m.\n",
       "\n",
       "\u001b[36m  node_neighbors(node_number::Integer, model::AbstractModel, radius::Integer)\u001b[39m\n",
       "\n",
       "  Returns a list of neighboring cells to the node \u001b[36mnode_number\u001b[39m within the\n",
       "  \u001b[36mradius\u001b[39m."
      ]
     },
     "execution_count": 13,
     "metadata": {},
     "output_type": "execute_result"
    }
   ],
   "source": [
    "@doc Abm.node_neighbors"
   ]
  },
  {
   "cell_type": "code",
   "execution_count": 14,
   "metadata": {},
   "outputs": [
    {
     "data": {
      "text/latex": [
       "\\begin{verbatim}\n",
       "get_node_contents(agent::AbstractAgent, model::AbstractModel)\n",
       "\\end{verbatim}\n",
       "Returns all agents' ids in the same node as the \\texttt{agent}.\n",
       "\n",
       "\\begin{verbatim}\n",
       "get_node_contents(coords::Tuple, model::AbstractModel)\n",
       "\\end{verbatim}\n",
       "Returns the id of agents in the node at \\texttt{coords}\n",
       "\n",
       "\\begin{verbatim}\n",
       "get_node_contents(node_number::Integer, model::AbstractModel)\n",
       "\\end{verbatim}\n",
       "Returns the id of agents in the node at \\texttt{node\\_number}\n",
       "\n"
      ],
      "text/markdown": [
       "```\n",
       "get_node_contents(agent::AbstractAgent, model::AbstractModel)\n",
       "```\n",
       "\n",
       "Returns all agents' ids in the same node as the `agent`.\n",
       "\n",
       "```\n",
       "get_node_contents(coords::Tuple, model::AbstractModel)\n",
       "```\n",
       "\n",
       "Returns the id of agents in the node at `coords`\n",
       "\n",
       "```\n",
       "get_node_contents(node_number::Integer, model::AbstractModel)\n",
       "```\n",
       "\n",
       "Returns the id of agents in the node at `node_number`\n"
      ],
      "text/plain": [
       "\u001b[36m  get_node_contents(agent::AbstractAgent, model::AbstractModel)\u001b[39m\n",
       "\n",
       "  Returns all agents' ids in the same node as the \u001b[36magent\u001b[39m.\n",
       "\n",
       "\u001b[36m  get_node_contents(coords::Tuple, model::AbstractModel)\u001b[39m\n",
       "\n",
       "  Returns the id of agents in the node at \u001b[36mcoords\u001b[39m\n",
       "\n",
       "\u001b[36m  get_node_contents(node_number::Integer, model::AbstractModel)\u001b[39m\n",
       "\n",
       "  Returns the id of agents in the node at \u001b[36mnode_number\u001b[39m"
      ]
     },
     "execution_count": 14,
     "metadata": {},
     "output_type": "execute_result"
    }
   ],
   "source": [
    "@doc Abm.get_node_contents"
   ]
  },
  {
   "cell_type": "code",
   "execution_count": 15,
   "metadata": {},
   "outputs": [
    {
     "data": {
      "text/latex": [
       "\\begin{verbatim}\n",
       "move_agent_single!(agent::AbstractAgent, model::AbstractModel)\n",
       "\\end{verbatim}\n",
       "Moves agent to a random nodes on the grid while respecting a maximum of one agent per node. If there are no empty nodes, the agent wont move.\n",
       "\n",
       "Return the agent's new position.\n",
       "\n"
      ],
      "text/markdown": [
       "```\n",
       "move_agent_single!(agent::AbstractAgent, model::AbstractModel)\n",
       "```\n",
       "\n",
       "Moves agent to a random nodes on the grid while respecting a maximum of one agent per node. If there are no empty nodes, the agent wont move.\n",
       "\n",
       "Return the agent's new position.\n"
      ],
      "text/plain": [
       "\u001b[36m  move_agent_single!(agent::AbstractAgent, model::AbstractModel)\u001b[39m\n",
       "\n",
       "  Moves agent to a random nodes on the grid while respecting a maximum of one\n",
       "  agent per node. If there are no empty nodes, the agent wont move.\n",
       "\n",
       "  Return the agent's new position."
      ]
     },
     "execution_count": 15,
     "metadata": {},
     "output_type": "execute_result"
    }
   ],
   "source": [
    "@doc Abm.move_agent_single!"
   ]
  },
  {
   "cell_type": "code",
   "execution_count": 16,
   "metadata": {},
   "outputs": [
    {
     "data": {
      "text/plain": [
       "agent_step!"
      ]
     },
     "execution_count": 16,
     "metadata": {},
     "output_type": "execute_result"
    }
   ],
   "source": [
    "\"Move a single agent until a satisfactory location is found.\"\n",
    "function agent_step!(agent, model)\n",
    "  if agent.mood == true\n",
    "    return\n",
    "  end\n",
    "  while agent.mood == false\n",
    "    neighbor_cells = Abm.node_neighbors(agent, model)\n",
    "    count_neighbors_same_group = 0\n",
    "\n",
    "    # For each neighbor, get group and compare to current agent's group...\n",
    "    # ...and increment count_neighbors_same_group as appropriately.  \n",
    "    for neighbor_cell in neighbor_cells\n",
    "      node_contents = Abm.get_node_contents(neighbor_cell, model)\n",
    "      # Skip iteration if the node is empty.\n",
    "      if length(node_contents) == 0\n",
    "        continue\n",
    "      else\n",
    "        # Otherwise, get the first agent in the node...\n",
    "        node_contents = node_contents[1]\n",
    "      end\n",
    "      # ...and increment count_neighbors_same_group if the neighbor's group is\n",
    "      # the same.\n",
    "      neighbor_agent_group = model.agents[node_contents].group\n",
    "      if neighbor_agent_group == agent.group\n",
    "        count_neighbors_same_group += 1\n",
    "      end\n",
    "    end\n",
    "\n",
    "    # After evaluating and adding up the groups of the neighbors, decide\n",
    "    # whether or not to move the agent.\n",
    "    # If count_neighbors_same_group is at least the min_to_be_happy, set the\n",
    "    # mood to true. Otherwise, move the agent using move_agent_single.\n",
    "    if count_neighbors_same_group >= model.min_to_be_happy\n",
    "      agent.mood = true\n",
    "    else\n",
    "      Abm.move_agent_single!(agent, model)\n",
    "    end\n",
    "  end\n",
    "end"
   ]
  },
  {
   "cell_type": "code",
   "execution_count": 17,
   "metadata": {},
   "outputs": [
    {
     "data": {
      "text/latex": [
       "\\begin{verbatim}\n",
       "step!(agent_step::Function, model::AbstractModel)\n",
       "\\end{verbatim}\n",
       "Updates agents one step. Agents will be updated as specified by the \\texttt{model.scheduler}.\n",
       "\n",
       "\\begin{verbatim}\n",
       "step!(agent_step::Function, model::AbstractModel, nsteps::Integer)\n",
       "\\end{verbatim}\n",
       "Repeats the \\texttt{step} function \\texttt{nsteps} times without collecting data.\n",
       "\n",
       "\\begin{verbatim}\n",
       "step!(agent_step::Function, model::AbstractModel, nsteps::Integer, agent_properties::Array{Symbol}, steps_to_collect_data::Array{Int64})\n",
       "\\end{verbatim}\n",
       "Repeats the \\texttt{step} function \\texttt{nsteps} times, and collects all agent fields in \\texttt{agent\\_properties} at steps \\texttt{steps\\_to\\_collect\\_data}.\n",
       "\n",
       "\\begin{verbatim}\n",
       "step!(agent_step::Function, model::AbstractModel, nsteps::Integer, agent_properties::Array{Symbol}, aggregators::Array, steps_to_collect_data::Array{Integer})\n",
       "\\end{verbatim}\n",
       "Repeats the \\texttt{step} function \\texttt{nsteps} times, and applies functions in \\texttt{aggregators} to values of agent fields in \\texttt{agent\\_properties} at steps \\texttt{steps\\_to\\_collect\\_data}.\n",
       "\n",
       "\\begin{verbatim}\n",
       "step!(agent_step::Function, model::AbstractModel, nsteps::Integer, propagg::Dict, steps_to_collect_data::Array{Integer})\n",
       "\\end{verbatim}\n",
       "Repeats the \\texttt{step} function \\texttt{nsteps} times, and applies functions in values of the \\texttt{propagg} dict to its keys at steps \\texttt{steps\\_to\\_collect\\_data}.\n",
       "\n",
       "\\begin{verbatim}\n",
       "step!(agent_step::Function, model_step::Function, model::AbstractModel)\n",
       "\\end{verbatim}\n",
       "Updates agents one step without collecting data. This function accepts two functions, one for update agents and one for updating the whole model one after all the agents have been updated.\n",
       "\n",
       "\\begin{verbatim}\n",
       "step!(agent_step::Function, model_step::Function, model::AbstractModel, nsteps::Integer)\n",
       "\\end{verbatim}\n",
       "Repeats the \\texttt{step} function \\texttt{nsteps} times without collecting data.\n",
       "\n",
       "\\begin{verbatim}\n",
       "step!(agent_step::Function, model_step::Function, model::AbstractModel, nsteps::Integer, agent_properties::Array{Symbol}, steps_to_collect_data::Array{Integer})\n",
       "\\end{verbatim}\n",
       "Repeats the \\texttt{step} function \\texttt{nsteps} times, and collects all agent fields in \\texttt{agent\\_properties} at steps \\texttt{steps\\_to\\_collect\\_data}.\n",
       "\n",
       "\\begin{verbatim}\n",
       "step!(agent_step::Function, model_step::Function, model::AbstractModel, nsteps::Integer, agent_properties::Array{Symbol}, aggregators::Array, steps_to_collect_data::Array{Integer})\n",
       "\\end{verbatim}\n",
       "Repeats the \\texttt{step} function \\texttt{nsteps} times, and applies functions in \\texttt{aggregators} to values of agent fields in \\texttt{agent\\_properties} at steps \\texttt{steps\\_to\\_collect\\_data}.\n",
       "\n",
       "\\begin{verbatim}\n",
       "step!(agent_step::Function, model_step::Function, model::AbstractModel, nsteps::Integer, propagg::Dict, steps_to_collect_data::Array{Integer})\n",
       "\\end{verbatim}\n",
       "Repeats the \\texttt{step} function \\texttt{nsteps} times, and applies functions in values of the \\texttt{propagg} dict to its keys at steps \\texttt{steps\\_to\\_collect\\_data}.\n",
       "\n"
      ],
      "text/markdown": [
       "```\n",
       "step!(agent_step::Function, model::AbstractModel)\n",
       "```\n",
       "\n",
       "Updates agents one step. Agents will be updated as specified by the `model.scheduler`.\n",
       "\n",
       "```\n",
       "step!(agent_step::Function, model::AbstractModel, nsteps::Integer)\n",
       "```\n",
       "\n",
       "Repeats the `step` function `nsteps` times without collecting data.\n",
       "\n",
       "```\n",
       "step!(agent_step::Function, model::AbstractModel, nsteps::Integer, agent_properties::Array{Symbol}, steps_to_collect_data::Array{Int64})\n",
       "```\n",
       "\n",
       "Repeats the `step` function `nsteps` times, and collects all agent fields in `agent_properties` at steps `steps_to_collect_data`.\n",
       "\n",
       "```\n",
       "step!(agent_step::Function, model::AbstractModel, nsteps::Integer, agent_properties::Array{Symbol}, aggregators::Array, steps_to_collect_data::Array{Integer})\n",
       "```\n",
       "\n",
       "Repeats the `step` function `nsteps` times, and applies functions in `aggregators` to values of agent fields in `agent_properties` at steps `steps_to_collect_data`.\n",
       "\n",
       "```\n",
       "step!(agent_step::Function, model::AbstractModel, nsteps::Integer, propagg::Dict, steps_to_collect_data::Array{Integer})\n",
       "```\n",
       "\n",
       "Repeats the `step` function `nsteps` times, and applies functions in values of the `propagg` dict to its keys at steps `steps_to_collect_data`.\n",
       "\n",
       "```\n",
       "step!(agent_step::Function, model_step::Function, model::AbstractModel)\n",
       "```\n",
       "\n",
       "Updates agents one step without collecting data. This function accepts two functions, one for update agents and one for updating the whole model one after all the agents have been updated.\n",
       "\n",
       "```\n",
       "step!(agent_step::Function, model_step::Function, model::AbstractModel, nsteps::Integer)\n",
       "```\n",
       "\n",
       "Repeats the `step` function `nsteps` times without collecting data.\n",
       "\n",
       "```\n",
       "step!(agent_step::Function, model_step::Function, model::AbstractModel, nsteps::Integer, agent_properties::Array{Symbol}, steps_to_collect_data::Array{Integer})\n",
       "```\n",
       "\n",
       "Repeats the `step` function `nsteps` times, and collects all agent fields in `agent_properties` at steps `steps_to_collect_data`.\n",
       "\n",
       "```\n",
       "step!(agent_step::Function, model_step::Function, model::AbstractModel, nsteps::Integer, agent_properties::Array{Symbol}, aggregators::Array, steps_to_collect_data::Array{Integer})\n",
       "```\n",
       "\n",
       "Repeats the `step` function `nsteps` times, and applies functions in `aggregators` to values of agent fields in `agent_properties` at steps `steps_to_collect_data`.\n",
       "\n",
       "```\n",
       "step!(agent_step::Function, model_step::Function, model::AbstractModel, nsteps::Integer, propagg::Dict, steps_to_collect_data::Array{Integer})\n",
       "```\n",
       "\n",
       "Repeats the `step` function `nsteps` times, and applies functions in values of the `propagg` dict to its keys at steps `steps_to_collect_data`.\n"
      ],
      "text/plain": [
       "\u001b[36m  step!(agent_step::Function, model::AbstractModel)\u001b[39m\n",
       "\n",
       "  Updates agents one step. Agents will be updated as specified by the\n",
       "  \u001b[36mmodel.scheduler\u001b[39m.\n",
       "\n",
       "\u001b[36m  step!(agent_step::Function, model::AbstractModel, nsteps::Integer)\u001b[39m\n",
       "\n",
       "  Repeats the \u001b[36mstep\u001b[39m function \u001b[36mnsteps\u001b[39m times without collecting data.\n",
       "\n",
       "\u001b[36m  step!(agent_step::Function, model::AbstractModel, nsteps::Integer, agent_properties::Array{Symbol}, steps_to_collect_data::Array{Int64})\u001b[39m\n",
       "\n",
       "  Repeats the \u001b[36mstep\u001b[39m function \u001b[36mnsteps\u001b[39m times, and collects all agent fields in\n",
       "  \u001b[36magent_properties\u001b[39m at steps \u001b[36msteps_to_collect_data\u001b[39m.\n",
       "\n",
       "\u001b[36m  step!(agent_step::Function, model::AbstractModel, nsteps::Integer, agent_properties::Array{Symbol}, aggregators::Array, steps_to_collect_data::Array{Integer})\u001b[39m\n",
       "\n",
       "  Repeats the \u001b[36mstep\u001b[39m function \u001b[36mnsteps\u001b[39m times, and applies functions in \u001b[36maggregators\u001b[39m\n",
       "  to values of agent fields in \u001b[36magent_properties\u001b[39m at steps\n",
       "  \u001b[36msteps_to_collect_data\u001b[39m.\n",
       "\n",
       "\u001b[36m  step!(agent_step::Function, model::AbstractModel, nsteps::Integer, propagg::Dict, steps_to_collect_data::Array{Integer})\u001b[39m\n",
       "\n",
       "  Repeats the \u001b[36mstep\u001b[39m function \u001b[36mnsteps\u001b[39m times, and applies functions in values of\n",
       "  the \u001b[36mpropagg\u001b[39m dict to its keys at steps \u001b[36msteps_to_collect_data\u001b[39m.\n",
       "\n",
       "\u001b[36m  step!(agent_step::Function, model_step::Function, model::AbstractModel)\u001b[39m\n",
       "\n",
       "  Updates agents one step without collecting data. This function accepts two\n",
       "  functions, one for update agents and one for updating the whole model one\n",
       "  after all the agents have been updated.\n",
       "\n",
       "\u001b[36m  step!(agent_step::Function, model_step::Function, model::AbstractModel, nsteps::Integer)\u001b[39m\n",
       "\n",
       "  Repeats the \u001b[36mstep\u001b[39m function \u001b[36mnsteps\u001b[39m times without collecting data.\n",
       "\n",
       "\u001b[36m  step!(agent_step::Function, model_step::Function, model::AbstractModel, nsteps::Integer, agent_properties::Array{Symbol}, steps_to_collect_data::Array{Integer})\u001b[39m\n",
       "\n",
       "  Repeats the \u001b[36mstep\u001b[39m function \u001b[36mnsteps\u001b[39m times, and collects all agent fields in\n",
       "  \u001b[36magent_properties\u001b[39m at steps \u001b[36msteps_to_collect_data\u001b[39m.\n",
       "\n",
       "\u001b[36m  step!(agent_step::Function, model_step::Function, model::AbstractModel, nsteps::Integer, agent_properties::Array{Symbol}, aggregators::Array, steps_to_collect_data::Array{Integer})\u001b[39m\n",
       "\n",
       "  Repeats the \u001b[36mstep\u001b[39m function \u001b[36mnsteps\u001b[39m times, and applies functions in \u001b[36maggregators\u001b[39m\n",
       "  to values of agent fields in \u001b[36magent_properties\u001b[39m at steps\n",
       "  \u001b[36msteps_to_collect_data\u001b[39m.\n",
       "\n",
       "\u001b[36m  step!(agent_step::Function, model_step::Function, model::AbstractModel, nsteps::Integer, propagg::Dict, steps_to_collect_data::Array{Integer})\u001b[39m\n",
       "\n",
       "  Repeats the \u001b[36mstep\u001b[39m function \u001b[36mnsteps\u001b[39m times, and applies functions in values of\n",
       "  the \u001b[36mpropagg\u001b[39m dict to its keys at steps \u001b[36msteps_to_collect_data\u001b[39m."
      ]
     },
     "execution_count": 17,
     "metadata": {},
     "output_type": "execute_result"
    }
   ],
   "source": [
    "@doc Abm.step!"
   ]
  },
  {
   "cell_type": "code",
   "execution_count": 27,
   "metadata": {},
   "outputs": [
    {
     "name": "stdout",
     "output_type": "stream",
     "text": [
      "  0.267067 seconds (274.20 k allocations: 62.735 MiB, 6.96% gc time)\n"
     ]
    }
   ],
   "source": [
    "# Instantiate the model with 370 agents on a 20 by 20 grid. \n",
    "model = instantiate_model(numagents=370, griddims=(20,20), min_to_be_happy=3)\n",
    "# An array of Symbols for the agent fields that are to be collected.\n",
    "agent_properties = [:pos, :mood, :group]\n",
    "# Specifies at which steps data should be collected.\n",
    "steps_to_collect_data = collect(range(1, stop=100))\n",
    "# Use the step function to run the model and collect data into a DataFrame.\n",
    "@time data = Abm.step!(agent_step!, model, 100, agent_properties, steps_to_collect_data);"
   ]
  },
  {
   "cell_type": "code",
   "execution_count": 35,
   "metadata": {},
   "outputs": [
    {
     "data": {
      "text/plain": [
       "(370, 301)"
      ]
     },
     "execution_count": 35,
     "metadata": {},
     "output_type": "execute_result"
    }
   ],
   "source": [
    "size(data)"
   ]
  },
  {
   "cell_type": "code",
   "execution_count": 34,
   "metadata": {},
   "outputs": [
    {
     "data": {
      "text/html": [
       "<p>DataFrameRow</p><table class=\"data-frame\"><thead><tr><th></th><th>id</th><th>pos_1</th><th>mood_1</th><th>group_1</th><th>pos_2</th><th>mood_2</th><th>group_2</th><th>pos_3</th><th>mood_3</th><th>group_3</th></tr><tr><th></th><th>Int64⍰</th><th>Int64⍰</th><th>Bool⍰</th><th>Int64⍰</th><th>Int64⍰</th><th>Bool⍰</th><th>Int64⍰</th><th>Int64⍰</th><th>Bool⍰</th><th>Int64⍰</th></tr></thead><tbody><p>1 rows × 301 columns (omitted printing of 291 columns)</p><tr><th>370</th><td>370</td><td>296</td><td>false</td><td>1</td><td>296</td><td>true</td><td>1</td><td>296</td><td>true</td><td>1</td></tr></tbody></table>"
      ],
      "text/latex": [
       "\\begin{tabular}{r|ccccccccccc}\n",
       "\t& id & pos\\_1 & mood\\_1 & group\\_1 & pos\\_2 & mood\\_2 & group\\_2 & pos\\_3 & mood\\_3 & group\\_3 & \\\\\n",
       "\t\\hline\n",
       "\t& Int64⍰ & Int64⍰ & Bool⍰ & Int64⍰ & Int64⍰ & Bool⍰ & Int64⍰ & Int64⍰ & Bool⍰ & Int64⍰ & \\\\\n",
       "\t\\hline\n",
       "\t370 & 370 & 296 & false & 1 & 296 & true & 1 & 296 & true & 1 & $\\dots$ \\\\\n",
       "\\end{tabular}\n"
      ],
      "text/plain": [
       "DataFrameRow. Omitted printing of 294 columns\n",
       "│ Row │ id     │ pos_1  │ mood_1 │ group_1 │ pos_2  │ mood_2 │ group_2 │\n",
       "│     │ \u001b[90mInt64⍰\u001b[39m │ \u001b[90mInt64⍰\u001b[39m │ \u001b[90mBool⍰\u001b[39m  │ \u001b[90mInt64⍰\u001b[39m  │ \u001b[90mInt64⍰\u001b[39m │ \u001b[90mBool⍰\u001b[39m  │ \u001b[90mInt64⍰\u001b[39m  │\n",
       "├─────┼────────┼────────┼────────┼─────────┼────────┼────────┼─────────┤\n",
       "│ 370 │ 370    │ 296    │ false  │ 1       │ 296    │ true   │ 1       │"
      ]
     },
     "execution_count": 34,
     "metadata": {},
     "output_type": "execute_result"
    }
   ],
   "source": [
    "last(data)"
   ]
  },
  {
   "cell_type": "code",
   "execution_count": 30,
   "metadata": {
    "scrolled": true
   },
   "outputs": [
    {
     "data": {
      "text/latex": [
       "\\begin{verbatim}\n",
       "visualize_2D_agent_distribution(data::DataFrame, model::AbstractModel, position_colomn::Symbol; types::Symbol=:id)\n",
       "\\end{verbatim}\n",
       "Show the distribution of agents on a 2D grid. You should provide \\texttt{position\\_colomn} which is the name of the column that holds agent positions. If agents have different types and you want each type to be a different color, provide types=<column name>. Use a dictionary with \\texttt{cc} to pass colors for each type. You may choose any color name as is on the \\href{https://en.wikipedia.org/wiki/Lists_of_colors}{list of colors on Wikipedia}.\n",
       "\n"
      ],
      "text/markdown": [
       "```\n",
       "visualize_2D_agent_distribution(data::DataFrame, model::AbstractModel, position_colomn::Symbol; types::Symbol=:id)\n",
       "```\n",
       "\n",
       "Show the distribution of agents on a 2D grid. You should provide `position_colomn` which is the name of the column that holds agent positions. If agents have different types and you want each type to be a different color, provide types=<column name>. Use a dictionary with `cc` to pass colors for each type. You may choose any color name as is on the [list of colors on Wikipedia](https://en.wikipedia.org/wiki/Lists_of_colors).\n"
      ],
      "text/plain": [
       "\u001b[36m  visualize_2D_agent_distribution(data::DataFrame, model::AbstractModel, position_colomn::Symbol; types::Symbol=:id)\u001b[39m\n",
       "\n",
       "  Show the distribution of agents on a 2D grid. You should provide\n",
       "  \u001b[36mposition_colomn\u001b[39m which is the name of the column that holds agent positions.\n",
       "  If agents have different types and you want each type to be a different\n",
       "  color, provide types=<column name>. Use a dictionary with \u001b[36mcc\u001b[39m to pass colors\n",
       "  for each type. You may choose any color name as is on the list of colors on\n",
       "  Wikipedia (https://en.wikipedia.org/wiki/Lists_of_colors)."
      ]
     },
     "execution_count": 30,
     "metadata": {},
     "output_type": "execute_result"
    }
   ],
   "source": [
    "@doc Abm.visualize_2D_agent_distribution"
   ]
  },
  {
   "cell_type": "code",
   "execution_count": 31,
   "metadata": {},
   "outputs": [
    {
     "data": {
      "text/plain": [
       "visualize_2D_agent_distribution_png (generic function with 1 method)"
      ]
     },
     "execution_count": 31,
     "metadata": {},
     "output_type": "execute_result"
    }
   ],
   "source": [
    "import Compose\n",
    "import Cairo \n",
    "import Fontconfig\n",
    "\n",
    "\n",
    "function visualize_2D_agent_distribution_png(data::Abm.DataFrame, model::Abm.AbstractModel, position_column::Symbol; types::Symbol=:id, savename::AbstractString=\"2D_agent_distribution\", cc::Dict=Dict())\n",
    "  g = model.space.space\n",
    "  locs_x, locs_y, = Abm.node_locs(g, model.space.dimensions)\n",
    "  \n",
    "  # base node color is light grey\n",
    "  nodefillc = [Abm.RGBA(0.1,0.1,0.1,.1) for i in 1:Abm.gridsize(model.space.dimensions)]\n",
    "\n",
    "  # change node color given the position of the agents. Automatically uses any columns with names: pos, or pos_{some number}\n",
    "  # TODO a new plot where the alpha value of a node corresponds to the value of an individual on a node\n",
    "  if types == :id  # there is only one type\n",
    "    pos = position_column\n",
    "    d = Abm.by(data, pos, N = pos => length)\n",
    "    maxval = maximum(d[!, :N])\n",
    "    nodefillc[d[pos]] .= [Abm.RGBA(0.1, 0.1, 0.1, i) for i in  (d[!, :N] ./ maxval) .- 0.001]\n",
    "  else  # there are different types of agents based on the values of the \"types\" column\n",
    "    dd = Abm.dropmissing(data[:, [position_column, types]])\n",
    "    unique_types = sort(unique(dd[!, types]))\n",
    "    pos = position_column\n",
    "    if length(cc) == 0\n",
    "      colors = Abm.colorrgb(length(unique_types))\n",
    "      colordict = Dict{Any, Tuple}()\n",
    "      colorvalues = collect(values(colors))\n",
    "      for ut in 1:length(unique_types)\n",
    "        colordict[unique_types[ut]] = colorvalues[ut]\n",
    "      end\n",
    "    else\n",
    "      colors = Abm.colorrgb(collect(values(cc)))\n",
    "      colordict = Dict{Any, Tuple}()\n",
    "      for key in keys(cc)\n",
    "        colordict[key] = colors[cc[key]]\n",
    "      end\n",
    "    end\n",
    "    colorrev = Dict(v=>k for (k,v) in colors)\n",
    "    for index in 1:length(unique_types)\n",
    "      tt = unique_types[index]\n",
    "      d = Abm.by(dd[dd[!, types] .== tt, :], pos, N = pos => length)\n",
    "      maxval = maximum(d[!, :N])\n",
    "      # colormapname = \"L$(index+1)\"  # a linear colormap\n",
    "      # (cmapc, name, desc) = cmap(colormapname, returnname=true)\n",
    "      # nodefillc[d[pos]] .= [cmapc[round(Int64, i*256)] for i in  (d[:N] ./ maxval) .- 0.001]\n",
    "      # println(\"$tt: $name\")\n",
    "      nodefillc[d[!, pos]] .= [Abm.RGBA(colordict[tt][1], colordict[tt][2], colordict[tt][3], i) for i in  (d[!, :N] ./ maxval) .- 0.001]\n",
    "      println(\"$tt: $(colorrev[colordict[tt]])\")\n",
    "    end\n",
    "  end\n",
    "\n",
    "  NODESIZE = 0.8/sqrt(Abm.gridsize(model))\n",
    "  Abm.draw(Compose.PNG(\"$savename.png\"), Abm.gplot(g, locs_x, locs_y, nodefillc=nodefillc, edgestrokec=Abm.RGBA(0.1,0.1,0.1,.1), NODESIZE=NODESIZE))\n",
    "end"
   ]
  },
  {
   "cell_type": "code",
   "execution_count": 32,
   "metadata": {},
   "outputs": [
    {
     "data": {
      "text/html": [
       "<p>DataFrameRow</p><table class=\"data-frame\"><thead><tr><th></th><th>id</th><th>pos_1</th><th>mood_1</th><th>group_1</th><th>pos_2</th><th>mood_2</th><th>group_2</th><th>pos_3</th><th>mood_3</th><th>group_3</th></tr><tr><th></th><th>Int64⍰</th><th>Int64⍰</th><th>Bool⍰</th><th>Int64⍰</th><th>Int64⍰</th><th>Bool⍰</th><th>Int64⍰</th><th>Int64⍰</th><th>Bool⍰</th><th>Int64⍰</th></tr></thead><tbody><p>1 rows × 301 columns (omitted printing of 291 columns)</p><tr><th>1</th><td>1</td><td>8</td><td>false</td><td>0</td><td>331</td><td>true</td><td>0</td><td>331</td><td>true</td><td>0</td></tr></tbody></table>"
      ],
      "text/latex": [
       "\\begin{tabular}{r|ccccccccccc}\n",
       "\t& id & pos\\_1 & mood\\_1 & group\\_1 & pos\\_2 & mood\\_2 & group\\_2 & pos\\_3 & mood\\_3 & group\\_3 & \\\\\n",
       "\t\\hline\n",
       "\t& Int64⍰ & Int64⍰ & Bool⍰ & Int64⍰ & Int64⍰ & Bool⍰ & Int64⍰ & Int64⍰ & Bool⍰ & Int64⍰ & \\\\\n",
       "\t\\hline\n",
       "\t1 & 1 & 8 & false & 0 & 331 & true & 0 & 331 & true & 0 & $\\dots$ \\\\\n",
       "\\end{tabular}\n"
      ],
      "text/plain": [
       "DataFrameRow. Omitted printing of 294 columns\n",
       "│ Row │ id     │ pos_1  │ mood_1 │ group_1 │ pos_2  │ mood_2 │ group_2 │\n",
       "│     │ \u001b[90mInt64⍰\u001b[39m │ \u001b[90mInt64⍰\u001b[39m │ \u001b[90mBool⍰\u001b[39m  │ \u001b[90mInt64⍰\u001b[39m  │ \u001b[90mInt64⍰\u001b[39m │ \u001b[90mBool⍰\u001b[39m  │ \u001b[90mInt64⍰\u001b[39m  │\n",
       "├─────┼────────┼────────┼────────┼─────────┼────────┼────────┼─────────┤\n",
       "│ 1   │ 1      │ 8      │ false  │ 0       │ 331    │ true   │ 0       │"
      ]
     },
     "execution_count": 32,
     "metadata": {},
     "output_type": "execute_result"
    }
   ],
   "source": [
    "first(data)"
   ]
  },
  {
   "cell_type": "code",
   "execution_count": 33,
   "metadata": {},
   "outputs": [
    {
     "name": "stdout",
     "output_type": "stream",
     "text": [
      "0: blue\n",
      "1: red\n",
      "0: blue\n",
      "1: red\n"
     ]
    }
   ],
   "source": [
    "# Use visualize_2D_agent_distribution to plot distribution of agents at every step.\n",
    "for i in 1:2\n",
    "  visualize_2D_agent_distribution_png(data, model, Symbol(\"pos_$i\"),\n",
    "  types=Symbol(\"group_$i\"), savename=\"step_$i\", cc=Dict(0=>\"blue\", 1=>\"red\"))\n",
    "end"
   ]
  },
  {
   "cell_type": "code",
   "execution_count": null,
   "metadata": {},
   "outputs": [],
   "source": []
  },
  {
   "cell_type": "code",
   "execution_count": null,
   "metadata": {},
   "outputs": [],
   "source": []
  }
 ],
 "metadata": {
  "kernelspec": {
   "display_name": "Julia 1.1.0",
   "language": "julia",
   "name": "julia-1.1"
  },
  "language_info": {
   "file_extension": ".jl",
   "mimetype": "application/julia",
   "name": "julia",
   "version": "1.1.0"
  },
  "varInspector": {
   "cols": {
    "lenName": 16,
    "lenType": 16,
    "lenVar": 40
   },
   "kernels_config": {
    "python": {
     "delete_cmd_postfix": "",
     "delete_cmd_prefix": "del ",
     "library": "var_list.py",
     "varRefreshCmd": "print(var_dic_list())"
    },
    "r": {
     "delete_cmd_postfix": ") ",
     "delete_cmd_prefix": "rm(",
     "library": "var_list.r",
     "varRefreshCmd": "cat(var_dic_list()) "
    }
   },
   "types_to_exclude": [
    "module",
    "function",
    "builtin_function_or_method",
    "instance",
    "_Feature"
   ],
   "window_display": false
  }
 },
 "nbformat": 4,
 "nbformat_minor": 2
}
