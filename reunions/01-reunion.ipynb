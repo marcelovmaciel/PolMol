{
  "cells": [
    {
      "cell_type": "markdown",
      "source": [
        "- O que precisa conhecer mais?\n",
        "- Objetivos"
      ],
      "metadata": {}
    },
    {
      "cell_type": "markdown",
      "source": [
        "- Lista de leitura para discutir\n",
        " - Primo;\n",
        " - Entrada da stanford\n",
        " \n",
        "- Pegar o projeto de hobbes e usar ele como mote pra tocar o projeto e ao longo desse projeto ir adicionando leituras para suprir necessidades (tipo quer fazer um modelo computacional):\n",
        "\n",
        "### Projeto de Hobbes\n",
        "\n",
        " - O projeto dele tava mais normativo teoria politica empírica\n",
        " \n",
        " - Bora puxar pra formal\n",
        " - 1) Na entrada puxa algo mais epistemologico + formal\n",
        " - 2) E depois puxa para computacional; \n",
        " - 3) E depois puxa para literatura sobre modelando hobbes\n",
        " - Problema da ordem social; \n",
        " - Como simular isso? \n",
        " - Mudança de jogo $\\rightarrow$ transição de fase (mudança de payoff)\n",
        " - Dilema do prisioneiro x confiança mútua\n",
        " - Desejo de glória\n",
        " - 4) Como formalizar o modelo da lloyd? \n",
        " - Vários tipos de agentes (4 tipos de interesses prioritários --> 4 tipos de agentes) (ou então só muda uns pesos numa equação);\n",
        " - Fama? Como modelar...\n",
        " - Dá para conectar o argumento de lloyd com um argumento epistemologico;  \n",
        " \n"
      ],
      "metadata": {}
    },
    {
      "cell_type": "markdown",
      "source": [
        "### Para proxima sexta\n",
        "\n",
        "- Ler os textos de gaus e lloyd;\n",
        "- Criar um template.tex para começarmos a mexer (via overleaf provavelmente);\n",
        " - Revisão (formal, computacional, hobbes)\n",
        " - Modelo\n",
        " - Análise\n"
      ],
      "metadata": {}
    },
    {
      "cell_type": "code",
      "source": [],
      "outputs": [],
      "execution_count": null,
      "metadata": {}
    },
    {
      "cell_type": "markdown",
      "source": [
        "# Segunda reuniao\n",
        "\n",
        "notas de reuniao: \n",
        "- se é interessante fazer algum tipo de modelo com base na interpretação da lloyd;\n",
        "- utterance-action consistency\n",
        "- troca de informação, tag como fama, interesse religioso, fool \n",
        "- diferentes tags para diferentes tags interesses, interação enviesada seria oq rola, clusters;\n",
        "- dividir clusters de determinados tamanhos \n",
        "- qual proporção que leva a clusterização e não a dominação \n",
        "- pd e assurance repeated abm;\n",
        "- desejo de gloria formalizado?? ver isso \n",
        "- igualdade entre as pessoas? criticas feministas -> pensar como modelar poder;\n",
        "- poder é como fama, como mais poder tu tens vai aumentado exponencialmente;\n",
        "\n\n",
        "- crescimento exponencial , mas dissolvimento --> o contrato que estabilizaria tudo \n",
        "- botão do contrato social -> emergencia (continuum, no nosso caso no tempo );\n",
        "- pegar chap 1 e 2 de algum texto de lloyd para vermos oque mapear para oq e pq\n",
        "- o que podemos fazer é pegar todos esses elementos e leva-los ao calculo do payoff, e ai tem os jogos, que vão retroalimentar os atributos; nisso vemos os padrões e o papel do botao do contrato social; \n",
        "- pegar desses chaps o teorema da reciprocidade para \n",
        "\n\n",
        "- vou pegar esses ramblings e ajeitar em um mapeamento estruturado para possiveis modelos ;\n",
        "sei q ta aqui em algum canto uns papers legais para nos basearmos e adaptar pro argumento de lloyd http://smaldino.com/wp/publications/\n",
        "\n__mapear para possiveis modelos__"
      ],
      "metadata": {}
    },
    {
      "cell_type": "markdown",
      "source": [],
      "metadata": {}
    }
  ],
  "metadata": {
    "kernelspec": {
      "name": "python3",
      "language": "python",
      "display_name": "Python 3"
    },
    "language_info": {
      "name": "python",
      "version": "3.7.1",
      "mimetype": "text/x-python",
      "codemirror_mode": {
        "name": "ipython",
        "version": 3
      },
      "pygments_lexer": "ipython3",
      "nbconvert_exporter": "python",
      "file_extension": ".py"
    },
    "kernel_info": {
      "name": "python3"
    },
    "nteract": {
      "version": "0.11.6"
    }
  },
  "nbformat": 4,
  "nbformat_minor": 2
}