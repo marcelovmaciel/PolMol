{
 "cells": [
  {
   "cell_type": "markdown",
   "metadata": {},
   "source": [
    "- O que precisa conhecer mais?\n",
    "- Objetivos"
   ]
  },
  {
   "cell_type": "markdown",
   "metadata": {},
   "source": [
    "- Lista de leitura para discutir\n",
    " - Primo;\n",
    " - Entrada da stanford\n",
    " \n",
    "- Pegar o projeto de hobbes e usar ele como mote pra tocar o projeto e ao longo desse projeto ir adicionando leituras para suprir necessidades (tipo quer fazer um modelo computacional):\n",
    "\n",
    "### Projeto de Hobbes\n",
    "\n",
    " - O projeto dele tava mais normativo teoria politica empírica\n",
    " \n",
    " - Bora puxar pra formal\n",
    " - 1) Na entrada puxa algo mais epistemologico + formal\n",
    " - 2) E depois puxa para computacional; \n",
    " - 3) E depois puxa para literatura sobre modelando hobbes\n",
    " - Problema da ordem social; \n",
    " - Como simular isso? \n",
    " - Mudança de jogo $\\rightarrow$ transição de fase (mudança de payoff)\n",
    " - Dilema do prisioneiro x confiança mútua\n",
    " - Desejo de glória\n",
    " - 4) Como formalizar o modelo da lloyd? \n",
    " - Vários tipos de agentes (4 tipos de interesses prioritários --> 4 tipos de agentes) (ou então só muda uns pesos numa equação);\n",
    " - Fama? Como modelar...\n",
    " - Dá para conectar o argumento de lloyd com um argumento epistemologico;  \n",
    " \n"
   ]
  },
  {
   "cell_type": "markdown",
   "metadata": {},
   "source": [
    "### Para proxima sexta\n",
    "\n",
    "- Ler os textos de gaus e lloyd;\n",
    "- Criar um template.tex para começarmos a mexer (via overleaf provavelmente);\n",
    " - Revisão (formal, computacional, hobbes)\n",
    " - Modelo\n",
    " - Análise\n"
   ]
  },
  {
   "cell_type": "code",
   "execution_count": null,
   "metadata": {},
   "outputs": [],
   "source": []
  }
 ],
 "metadata": {
  "kernelspec": {
   "display_name": "Python 3",
   "language": "python",
   "name": "python3"
  },
  "language_info": {
   "codemirror_mode": {
    "name": "ipython",
    "version": 3
   },
   "file_extension": ".py",
   "mimetype": "text/x-python",
   "name": "python",
   "nbconvert_exporter": "python",
   "pygments_lexer": "ipython3",
   "version": "3.6.8"
  }
 },
 "nbformat": 4,
 "nbformat_minor": 2
}
